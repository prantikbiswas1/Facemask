{
 "cells": [
  {
   "cell_type": "code",
   "execution_count": 10,
   "metadata": {},
   "outputs": [],
   "source": [
    "import os\n",
    "from keras.preprocessing import image\n",
    "import cv2\n",
    "import tensorflow as tf"
   ]
  },
  {
   "cell_type": "code",
   "execution_count": 11,
   "metadata": {},
   "outputs": [],
   "source": [
    "categories = ['with_mask','without_mask']"
   ]
  },
  {
   "cell_type": "code",
   "execution_count": 12,
   "metadata": {},
   "outputs": [],
   "source": [
    "data = []\n",
    "for category in categories:\n",
    "    path = os.path.join('train',category)\n",
    "\n",
    "    label = categories.index(category)\n",
    "    \n",
    "    for file in os.listdir(path):\n",
    "        img_path = os.path.join(path,file)\n",
    "        img = cv2.imread(img_path)\n",
    "        img = cv2.resize(img,(224,224))\n",
    "\n",
    "        data.append([img,label])\n",
    "        \n"
   ]
  },
  {
   "cell_type": "code",
   "execution_count": 13,
   "metadata": {},
   "outputs": [
    {
     "data": {
      "text/plain": [
       "1279"
      ]
     },
     "execution_count": 13,
     "metadata": {},
     "output_type": "execute_result"
    }
   ],
   "source": [
    "len(data)"
   ]
  },
  {
   "cell_type": "code",
   "execution_count": 14,
   "metadata": {},
   "outputs": [],
   "source": [
    "import random"
   ]
  },
  {
   "cell_type": "code",
   "execution_count": 15,
   "metadata": {},
   "outputs": [],
   "source": [
    "random.shuffle(data)"
   ]
  },
  {
   "cell_type": "code",
   "execution_count": 16,
   "metadata": {},
   "outputs": [],
   "source": [
    "x = []\n",
    "y = []\n",
    "\n",
    "for features, label in data:\n",
    "    x.append(features)\n",
    "    y.append(label)"
   ]
  },
  {
   "cell_type": "code",
   "execution_count": 17,
   "metadata": {},
   "outputs": [
    {
     "data": {
      "text/plain": [
       "1279"
      ]
     },
     "execution_count": 17,
     "metadata": {},
     "output_type": "execute_result"
    }
   ],
   "source": [
    "len(x)\n"
   ]
  },
  {
   "cell_type": "code",
   "execution_count": 18,
   "metadata": {},
   "outputs": [
    {
     "data": {
      "text/plain": [
       "1279"
      ]
     },
     "execution_count": 18,
     "metadata": {},
     "output_type": "execute_result"
    }
   ],
   "source": [
    "len(y)"
   ]
  },
  {
   "cell_type": "code",
   "execution_count": 19,
   "metadata": {},
   "outputs": [],
   "source": [
    "import numpy as np"
   ]
  },
  {
   "cell_type": "code",
   "execution_count": 20,
   "metadata": {},
   "outputs": [],
   "source": [
    "x = np.array(x)\n",
    "y = np.array(y)"
   ]
  },
  {
   "cell_type": "code",
   "execution_count": 21,
   "metadata": {},
   "outputs": [
    {
     "data": {
      "text/plain": [
       "(1279, 224, 224, 3)"
      ]
     },
     "execution_count": 21,
     "metadata": {},
     "output_type": "execute_result"
    }
   ],
   "source": [
    "x.shape"
   ]
  },
  {
   "cell_type": "code",
   "execution_count": 22,
   "metadata": {},
   "outputs": [
    {
     "data": {
      "text/plain": [
       "(1279,)"
      ]
     },
     "execution_count": 22,
     "metadata": {},
     "output_type": "execute_result"
    }
   ],
   "source": [
    "y.shape"
   ]
  },
  {
   "cell_type": "code",
   "execution_count": 23,
   "metadata": {},
   "outputs": [],
   "source": [
    "x = x/255"
   ]
  },
  {
   "cell_type": "code",
   "execution_count": 24,
   "metadata": {},
   "outputs": [],
   "source": [
    "from sklearn.model_selection import train_test_split"
   ]
  },
  {
   "cell_type": "code",
   "execution_count": 25,
   "metadata": {},
   "outputs": [],
   "source": [
    "x_train,x_test,y_train,y_test = train_test_split(x,y,test_size=0.2)"
   ]
  },
  {
   "cell_type": "code",
   "execution_count": 26,
   "metadata": {},
   "outputs": [
    {
     "data": {
      "text/plain": [
       "(1023, 224, 224, 3)"
      ]
     },
     "execution_count": 26,
     "metadata": {},
     "output_type": "execute_result"
    }
   ],
   "source": [
    "x_train.shape"
   ]
  },
  {
   "cell_type": "code",
   "execution_count": 27,
   "metadata": {},
   "outputs": [
    {
     "data": {
      "text/plain": [
       "(256, 224, 224, 3)"
      ]
     },
     "execution_count": 27,
     "metadata": {},
     "output_type": "execute_result"
    }
   ],
   "source": [
    "x_test.shape"
   ]
  },
  {
   "cell_type": "code",
   "execution_count": 28,
   "metadata": {},
   "outputs": [],
   "source": [
    "from keras.applications.vgg16 import VGG16"
   ]
  },
  {
   "cell_type": "code",
   "execution_count": 29,
   "metadata": {},
   "outputs": [
    {
     "name": "stdout",
     "output_type": "stream",
     "text": [
      "WARNING:tensorflow:From c:\\Users\\parit\\OneDrive\\Desktop\\Test for Open CV\\venv\\Lib\\site-packages\\keras\\src\\backend.py:1398: The name tf.executing_eagerly_outside_functions is deprecated. Please use tf.compat.v1.executing_eagerly_outside_functions instead.\n",
      "\n",
      "WARNING:tensorflow:From c:\\Users\\parit\\OneDrive\\Desktop\\Test for Open CV\\venv\\Lib\\site-packages\\keras\\src\\layers\\pooling\\max_pooling2d.py:161: The name tf.nn.max_pool is deprecated. Please use tf.nn.max_pool2d instead.\n",
      "\n"
     ]
    }
   ],
   "source": [
    "vgg = VGG16()"
   ]
  },
  {
   "cell_type": "code",
   "execution_count": 30,
   "metadata": {},
   "outputs": [
    {
     "name": "stdout",
     "output_type": "stream",
     "text": [
      "Model: \"vgg16\"\n",
      "_________________________________________________________________\n",
      " Layer (type)                Output Shape              Param #   \n",
      "=================================================================\n",
      " input_1 (InputLayer)        [(None, 224, 224, 3)]     0         \n",
      "                                                                 \n",
      " block1_conv1 (Conv2D)       (None, 224, 224, 64)      1792      \n",
      "                                                                 \n",
      " block1_conv2 (Conv2D)       (None, 224, 224, 64)      36928     \n",
      "                                                                 \n",
      " block1_pool (MaxPooling2D)  (None, 112, 112, 64)      0         \n",
      "                                                                 \n",
      " block2_conv1 (Conv2D)       (None, 112, 112, 128)     73856     \n",
      "                                                                 \n",
      " block2_conv2 (Conv2D)       (None, 112, 112, 128)     147584    \n",
      "                                                                 \n",
      " block2_pool (MaxPooling2D)  (None, 56, 56, 128)       0         \n",
      "                                                                 \n",
      " block3_conv1 (Conv2D)       (None, 56, 56, 256)       295168    \n",
      "                                                                 \n",
      " block3_conv2 (Conv2D)       (None, 56, 56, 256)       590080    \n",
      "                                                                 \n",
      " block3_conv3 (Conv2D)       (None, 56, 56, 256)       590080    \n",
      "                                                                 \n",
      " block3_pool (MaxPooling2D)  (None, 28, 28, 256)       0         \n",
      "                                                                 \n",
      " block4_conv1 (Conv2D)       (None, 28, 28, 512)       1180160   \n",
      "                                                                 \n",
      " block4_conv2 (Conv2D)       (None, 28, 28, 512)       2359808   \n",
      "                                                                 \n",
      " block4_conv3 (Conv2D)       (None, 28, 28, 512)       2359808   \n",
      "                                                                 \n",
      " block4_pool (MaxPooling2D)  (None, 14, 14, 512)       0         \n",
      "                                                                 \n",
      " block5_conv1 (Conv2D)       (None, 14, 14, 512)       2359808   \n",
      "                                                                 \n",
      " block5_conv2 (Conv2D)       (None, 14, 14, 512)       2359808   \n",
      "                                                                 \n",
      " block5_conv3 (Conv2D)       (None, 14, 14, 512)       2359808   \n",
      "                                                                 \n",
      " block5_pool (MaxPooling2D)  (None, 7, 7, 512)         0         \n",
      "                                                                 \n",
      " flatten (Flatten)           (None, 25088)             0         \n",
      "                                                                 \n",
      " fc1 (Dense)                 (None, 4096)              102764544 \n",
      "                                                                 \n",
      " fc2 (Dense)                 (None, 4096)              16781312  \n",
      "                                                                 \n",
      " predictions (Dense)         (None, 1000)              4097000   \n",
      "                                                                 \n",
      "=================================================================\n",
      "Total params: 138357544 (527.79 MB)\n",
      "Trainable params: 138357544 (527.79 MB)\n",
      "Non-trainable params: 0 (0.00 Byte)\n",
      "_________________________________________________________________\n"
     ]
    }
   ],
   "source": [
    "vgg.summary()"
   ]
  },
  {
   "cell_type": "code",
   "execution_count": 31,
   "metadata": {},
   "outputs": [],
   "source": [
    "from keras import Sequential,Input"
   ]
  },
  {
   "cell_type": "code",
   "execution_count": 32,
   "metadata": {},
   "outputs": [],
   "source": [
    "model = Sequential()\n",
    "\n",
    "model.add(Input(shape=(224,224,3),name='input_layer'))"
   ]
  },
  {
   "cell_type": "code",
   "execution_count": 33,
   "metadata": {},
   "outputs": [],
   "source": [
    "\n",
    "for layer in vgg.layers[:-1]:\n",
    "    model.add(layer)"
   ]
  },
  {
   "cell_type": "code",
   "execution_count": 34,
   "metadata": {},
   "outputs": [],
   "source": [
    "from keras.layers import Dense"
   ]
  },
  {
   "cell_type": "code",
   "execution_count": 35,
   "metadata": {},
   "outputs": [
    {
     "name": "stdout",
     "output_type": "stream",
     "text": [
      "Model: \"sequential\"\n",
      "_________________________________________________________________\n",
      " Layer (type)                Output Shape              Param #   \n",
      "=================================================================\n",
      " input_1 (InputLayer)        multiple                  0         \n",
      "                                                                 \n",
      " block1_conv1 (Conv2D)       (None, 224, 224, 64)      1792      \n",
      "                                                                 \n",
      " block1_conv2 (Conv2D)       (None, 224, 224, 64)      36928     \n",
      "                                                                 \n",
      " block1_pool (MaxPooling2D)  (None, 112, 112, 64)      0         \n",
      "                                                                 \n",
      " block2_conv1 (Conv2D)       (None, 112, 112, 128)     73856     \n",
      "                                                                 \n",
      " block2_conv2 (Conv2D)       (None, 112, 112, 128)     147584    \n",
      "                                                                 \n",
      " block2_pool (MaxPooling2D)  (None, 56, 56, 128)       0         \n",
      "                                                                 \n",
      " block3_conv1 (Conv2D)       (None, 56, 56, 256)       295168    \n",
      "                                                                 \n",
      " block3_conv2 (Conv2D)       (None, 56, 56, 256)       590080    \n",
      "                                                                 \n",
      " block3_conv3 (Conv2D)       (None, 56, 56, 256)       590080    \n",
      "                                                                 \n",
      " block3_pool (MaxPooling2D)  (None, 28, 28, 256)       0         \n",
      "                                                                 \n",
      " block4_conv1 (Conv2D)       (None, 28, 28, 512)       1180160   \n",
      "                                                                 \n",
      " block4_conv2 (Conv2D)       (None, 28, 28, 512)       2359808   \n",
      "                                                                 \n",
      " block4_conv3 (Conv2D)       (None, 28, 28, 512)       2359808   \n",
      "                                                                 \n",
      " block4_pool (MaxPooling2D)  (None, 14, 14, 512)       0         \n",
      "                                                                 \n",
      " block5_conv1 (Conv2D)       (None, 14, 14, 512)       2359808   \n",
      "                                                                 \n",
      " block5_conv2 (Conv2D)       (None, 14, 14, 512)       2359808   \n",
      "                                                                 \n",
      " block5_conv3 (Conv2D)       (None, 14, 14, 512)       2359808   \n",
      "                                                                 \n",
      " block5_pool (MaxPooling2D)  (None, 7, 7, 512)         0         \n",
      "                                                                 \n",
      " flatten (Flatten)           (None, 25088)             0         \n",
      "                                                                 \n",
      " fc1 (Dense)                 (None, 4096)              102764544 \n",
      "                                                                 \n",
      " fc2 (Dense)                 (None, 4096)              16781312  \n",
      "                                                                 \n",
      "=================================================================\n",
      "Total params: 134260544 (512.16 MB)\n",
      "Trainable params: 134260544 (512.16 MB)\n",
      "Non-trainable params: 0 (0.00 Byte)\n",
      "_________________________________________________________________\n"
     ]
    }
   ],
   "source": [
    "model.summary()"
   ]
  },
  {
   "cell_type": "code",
   "execution_count": 36,
   "metadata": {},
   "outputs": [],
   "source": [
    "for layer in model.layers:\n",
    "    layer.trainable = False"
   ]
  },
  {
   "cell_type": "code",
   "execution_count": 37,
   "metadata": {},
   "outputs": [
    {
     "name": "stdout",
     "output_type": "stream",
     "text": [
      "Model: \"sequential\"\n",
      "_________________________________________________________________\n",
      " Layer (type)                Output Shape              Param #   \n",
      "=================================================================\n",
      " input_1 (InputLayer)        multiple                  0         \n",
      "                                                                 \n",
      " block1_conv1 (Conv2D)       (None, 224, 224, 64)      1792      \n",
      "                                                                 \n",
      " block1_conv2 (Conv2D)       (None, 224, 224, 64)      36928     \n",
      "                                                                 \n",
      " block1_pool (MaxPooling2D)  (None, 112, 112, 64)      0         \n",
      "                                                                 \n",
      " block2_conv1 (Conv2D)       (None, 112, 112, 128)     73856     \n",
      "                                                                 \n",
      " block2_conv2 (Conv2D)       (None, 112, 112, 128)     147584    \n",
      "                                                                 \n",
      " block2_pool (MaxPooling2D)  (None, 56, 56, 128)       0         \n",
      "                                                                 \n",
      " block3_conv1 (Conv2D)       (None, 56, 56, 256)       295168    \n",
      "                                                                 \n",
      " block3_conv2 (Conv2D)       (None, 56, 56, 256)       590080    \n",
      "                                                                 \n",
      " block3_conv3 (Conv2D)       (None, 56, 56, 256)       590080    \n",
      "                                                                 \n",
      " block3_pool (MaxPooling2D)  (None, 28, 28, 256)       0         \n",
      "                                                                 \n",
      " block4_conv1 (Conv2D)       (None, 28, 28, 512)       1180160   \n",
      "                                                                 \n",
      " block4_conv2 (Conv2D)       (None, 28, 28, 512)       2359808   \n",
      "                                                                 \n",
      " block4_conv3 (Conv2D)       (None, 28, 28, 512)       2359808   \n",
      "                                                                 \n",
      " block4_pool (MaxPooling2D)  (None, 14, 14, 512)       0         \n",
      "                                                                 \n",
      " block5_conv1 (Conv2D)       (None, 14, 14, 512)       2359808   \n",
      "                                                                 \n",
      " block5_conv2 (Conv2D)       (None, 14, 14, 512)       2359808   \n"
     ]
    },
    {
     "name": "stdout",
     "output_type": "stream",
     "text": [
      "                                                                 \n",
      " block5_conv3 (Conv2D)       (None, 14, 14, 512)       2359808   \n",
      "                                                                 \n",
      " block5_pool (MaxPooling2D)  (None, 7, 7, 512)         0         \n",
      "                                                                 \n",
      " flatten (Flatten)           (None, 25088)             0         \n",
      "                                                                 \n",
      " fc1 (Dense)                 (None, 4096)              102764544 \n",
      "                                                                 \n",
      " fc2 (Dense)                 (None, 4096)              16781312  \n",
      "                                                                 \n",
      "=================================================================\n",
      "Total params: 134260544 (512.16 MB)\n",
      "Trainable params: 0 (0.00 Byte)\n",
      "Non-trainable params: 134260544 (512.16 MB)\n",
      "_________________________________________________________________\n"
     ]
    }
   ],
   "source": [
    "model.summary()"
   ]
  },
  {
   "cell_type": "code",
   "execution_count": 38,
   "metadata": {},
   "outputs": [],
   "source": [
    "model.add(Dense(1,activation = 'sigmoid'))"
   ]
  },
  {
   "cell_type": "code",
   "execution_count": 39,
   "metadata": {},
   "outputs": [
    {
     "name": "stdout",
     "output_type": "stream",
     "text": [
      "WARNING:tensorflow:From c:\\Users\\parit\\OneDrive\\Desktop\\Test for Open CV\\venv\\Lib\\site-packages\\keras\\src\\optimizers\\__init__.py:309: The name tf.train.Optimizer is deprecated. Please use tf.compat.v1.train.Optimizer instead.\n",
      "\n"
     ]
    }
   ],
   "source": [
    "model.compile(optimizer='Adam',loss='binary_crossentropy',metrics=['accuracy'])"
   ]
  },
  {
   "cell_type": "code",
   "execution_count": 41,
   "metadata": {},
   "outputs": [
    {
     "name": "stdout",
     "output_type": "stream",
     "text": [
      "Epoch 1/5\n",
      "32/32 [==============================] - 125s 4s/step - loss: 0.2699 - accuracy: 0.9296 - val_loss: 0.2421 - val_accuracy: 0.9297\n",
      "Epoch 2/5\n",
      "32/32 [==============================] - 121s 4s/step - loss: 0.2137 - accuracy: 0.9423 - val_loss: 0.2123 - val_accuracy: 0.9219\n",
      "Epoch 3/5\n",
      "32/32 [==============================] - 121s 4s/step - loss: 0.1829 - accuracy: 0.9492 - val_loss: 0.2005 - val_accuracy: 0.9297\n",
      "Epoch 4/5\n",
      "32/32 [==============================] - 121s 4s/step - loss: 0.1763 - accuracy: 0.9501 - val_loss: 0.1844 - val_accuracy: 0.9297\n",
      "Epoch 5/5\n",
      "32/32 [==============================] - 121s 4s/step - loss: 0.1479 - accuracy: 0.9599 - val_loss: 0.1653 - val_accuracy: 0.9453\n"
     ]
    },
    {
     "data": {
      "text/plain": [
       "<keras.src.callbacks.History at 0x1fb2b904710>"
      ]
     },
     "execution_count": 41,
     "metadata": {},
     "output_type": "execute_result"
    }
   ],
   "source": [
    "model.fit(x_train,y_train,epochs=5,validation_data=(x_test,y_test))"
   ]
  },
  {
   "cell_type": "code",
   "execution_count": 42,
   "metadata": {},
   "outputs": [
    {
     "name": "stderr",
     "output_type": "stream",
     "text": [
      "c:\\Users\\parit\\OneDrive\\Desktop\\Test for Open CV\\venv\\Lib\\site-packages\\keras\\src\\engine\\training.py:3103: UserWarning: You are saving your model as an HDF5 file via `model.save()`. This file format is considered legacy. We recommend using instead the native Keras format, e.g. `model.save('my_model.keras')`.\n",
      "  saving_api.save_model(\n"
     ]
    }
   ],
   "source": [
    "model.save('face_mask.h5')"
   ]
  },
  {
   "cell_type": "code",
   "execution_count": 5,
   "metadata": {},
   "outputs": [
    {
     "name": "stdout",
     "output_type": "stream",
     "text": [
      "WARNING:tensorflow:From c:\\Users\\parit\\OneDrive\\Desktop\\Test for Open CV\\venv\\Lib\\site-packages\\keras\\src\\losses.py:2976: The name tf.losses.sparse_softmax_cross_entropy is deprecated. Please use tf.compat.v1.losses.sparse_softmax_cross_entropy instead.\n",
      "\n",
      "WARNING:tensorflow:From c:\\Users\\parit\\OneDrive\\Desktop\\Test for Open CV\\venv\\Lib\\site-packages\\keras\\src\\backend.py:1398: The name tf.executing_eagerly_outside_functions is deprecated. Please use tf.compat.v1.executing_eagerly_outside_functions instead.\n",
      "\n",
      "WARNING:tensorflow:From c:\\Users\\parit\\OneDrive\\Desktop\\Test for Open CV\\venv\\Lib\\site-packages\\keras\\src\\layers\\pooling\\max_pooling2d.py:161: The name tf.nn.max_pool is deprecated. Please use tf.nn.max_pool2d instead.\n",
      "\n"
     ]
    }
   ],
   "source": [
    "from keras.models import load_model\n",
    "model = load_model('face_mask.h5')"
   ]
  },
  {
   "cell_type": "code",
   "execution_count": 85,
   "metadata": {},
   "outputs": [],
   "source": [
    "import cv2\n",
    "\n",
    "cap = cv2.VideoCapture(0)\n",
    "#https://10.16.0.68:8080/video\n"
   ]
  },
  {
   "cell_type": "code",
   "execution_count": 92,
   "metadata": {},
   "outputs": [
    {
     "name": "stdout",
     "output_type": "stream",
     "text": [
      "1/1 [==============================] - 0s 240ms/step\n",
      "1\n",
      "1/1 [==============================] - 0s 227ms/step\n",
      "1\n",
      "1/1 [==============================] - 0s 211ms/step\n",
      "1\n",
      "1/1 [==============================] - 0s 195ms/step\n",
      "1\n",
      "1/1 [==============================] - 0s 177ms/step\n",
      "1\n",
      "1/1 [==============================] - 0s 163ms/step\n",
      "1\n",
      "1/1 [==============================] - 0s 163ms/step\n",
      "1\n",
      "1/1 [==============================] - 0s 168ms/step\n",
      "1\n",
      "1/1 [==============================] - 0s 167ms/step\n",
      "1\n",
      "1/1 [==============================] - 0s 165ms/step\n",
      "1\n",
      "1/1 [==============================] - 0s 166ms/step\n",
      "1\n",
      "1/1 [==============================] - 0s 173ms/step\n",
      "1\n",
      "1/1 [==============================] - 0s 165ms/step\n",
      "1\n",
      "1/1 [==============================] - 0s 162ms/step\n",
      "1\n",
      "1/1 [==============================] - 0s 164ms/step\n",
      "1\n",
      "1/1 [==============================] - 0s 172ms/step\n",
      "1\n",
      "1/1 [==============================] - 0s 163ms/step\n",
      "1\n",
      "1/1 [==============================] - 0s 163ms/step\n",
      "1\n",
      "1/1 [==============================] - 0s 199ms/step\n",
      "1\n",
      "1/1 [==============================] - 0s 178ms/step\n",
      "1\n",
      "1/1 [==============================] - 0s 172ms/step\n",
      "1\n",
      "1/1 [==============================] - 0s 165ms/step\n",
      "1\n",
      "1/1 [==============================] - 0s 165ms/step\n",
      "1\n",
      "1/1 [==============================] - 0s 169ms/step\n",
      "1\n",
      "1/1 [==============================] - 0s 168ms/step\n",
      "1\n",
      "1/1 [==============================] - 0s 168ms/step\n",
      "1\n",
      "1/1 [==============================] - 0s 169ms/step\n",
      "1\n",
      "1/1 [==============================] - 0s 171ms/step\n",
      "1\n",
      "1/1 [==============================] - 0s 169ms/step\n",
      "1\n",
      "1/1 [==============================] - 0s 166ms/step\n",
      "1\n",
      "1/1 [==============================] - 0s 164ms/step\n",
      "1\n",
      "1/1 [==============================] - 0s 171ms/step\n",
      "1\n",
      "1/1 [==============================] - 0s 167ms/step\n",
      "1\n",
      "1/1 [==============================] - 0s 165ms/step\n",
      "1\n",
      "1/1 [==============================] - 0s 165ms/step\n",
      "1\n",
      "1/1 [==============================] - 0s 164ms/step\n",
      "1\n",
      "1/1 [==============================] - 0s 181ms/step\n",
      "1\n",
      "1/1 [==============================] - 0s 164ms/step\n",
      "1\n",
      "1/1 [==============================] - 0s 194ms/step\n",
      "1\n",
      "1/1 [==============================] - 0s 171ms/step\n",
      "1\n",
      "1/1 [==============================] - 0s 187ms/step\n",
      "1\n",
      "1/1 [==============================] - 0s 175ms/step\n",
      "1\n",
      "1/1 [==============================] - 0s 179ms/step\n",
      "1\n",
      "1/1 [==============================] - 0s 166ms/step\n",
      "1\n",
      "1/1 [==============================] - 0s 179ms/step\n",
      "0\n",
      "1/1 [==============================] - 0s 175ms/step\n",
      "0\n",
      "1/1 [==============================] - 0s 167ms/step\n",
      "0\n",
      "1/1 [==============================] - 0s 171ms/step\n",
      "0\n",
      "1/1 [==============================] - 0s 181ms/step\n",
      "0\n",
      "1/1 [==============================] - 0s 168ms/step\n",
      "1\n",
      "1/1 [==============================] - 0s 169ms/step\n",
      "1\n",
      "1/1 [==============================] - 0s 167ms/step\n",
      "1\n",
      "1/1 [==============================] - 0s 168ms/step\n",
      "1\n",
      "1/1 [==============================] - 0s 166ms/step\n",
      "1\n",
      "1/1 [==============================] - 0s 168ms/step\n",
      "1\n",
      "1/1 [==============================] - 0s 173ms/step\n",
      "1\n",
      "1/1 [==============================] - 0s 172ms/step\n",
      "1\n",
      "1/1 [==============================] - 0s 167ms/step\n",
      "1\n",
      "1/1 [==============================] - 0s 166ms/step\n",
      "1\n",
      "1/1 [==============================] - 0s 186ms/step\n",
      "1\n",
      "1/1 [==============================] - 0s 172ms/step\n",
      "0\n",
      "1/1 [==============================] - 0s 173ms/step\n",
      "0\n",
      "1/1 [==============================] - 0s 168ms/step\n",
      "0\n",
      "1/1 [==============================] - 0s 173ms/step\n",
      "0\n",
      "1/1 [==============================] - 0s 168ms/step\n",
      "0\n",
      "1/1 [==============================] - 0s 170ms/step\n",
      "0\n",
      "1/1 [==============================] - 0s 179ms/step\n",
      "0\n",
      "1/1 [==============================] - 0s 168ms/step\n",
      "0\n",
      "1/1 [==============================] - 0s 172ms/step\n",
      "0\n",
      "1/1 [==============================] - 0s 173ms/step\n",
      "0\n",
      "1/1 [==============================] - 0s 166ms/step\n",
      "0\n",
      "1/1 [==============================] - 0s 172ms/step\n",
      "0\n",
      "1/1 [==============================] - 0s 164ms/step\n",
      "0\n",
      "1/1 [==============================] - 0s 190ms/step\n",
      "0\n",
      "1/1 [==============================] - 0s 165ms/step\n",
      "0\n",
      "1/1 [==============================] - 0s 181ms/step\n",
      "0\n",
      "1/1 [==============================] - 0s 168ms/step\n",
      "0\n",
      "1/1 [==============================] - 0s 172ms/step\n",
      "0\n",
      "1/1 [==============================] - 0s 172ms/step\n",
      "0\n",
      "1/1 [==============================] - 0s 174ms/step\n",
      "0\n",
      "1/1 [==============================] - 0s 166ms/step\n",
      "0\n",
      "1/1 [==============================] - 0s 171ms/step\n",
      "0\n",
      "1/1 [==============================] - 0s 172ms/step\n",
      "0\n",
      "1/1 [==============================] - 0s 169ms/step\n",
      "0\n",
      "1/1 [==============================] - 0s 169ms/step\n",
      "0\n",
      "1/1 [==============================] - 0s 174ms/step\n",
      "0\n",
      "1/1 [==============================] - 0s 169ms/step\n",
      "0\n",
      "1/1 [==============================] - 0s 174ms/step\n",
      "0\n",
      "1/1 [==============================] - 0s 170ms/step\n",
      "0\n",
      "1/1 [==============================] - 0s 169ms/step\n",
      "0\n",
      "1/1 [==============================] - 0s 169ms/step\n",
      "0\n",
      "1/1 [==============================] - 0s 167ms/step\n",
      "0\n",
      "1/1 [==============================] - 0s 176ms/step\n",
      "0\n",
      "1/1 [==============================] - 0s 165ms/step\n",
      "0\n",
      "1/1 [==============================] - 0s 183ms/step\n",
      "0\n",
      "1/1 [==============================] - 0s 182ms/step\n",
      "0\n",
      "1/1 [==============================] - 0s 172ms/step\n",
      "0\n",
      "1/1 [==============================] - 0s 167ms/step\n",
      "0\n",
      "1/1 [==============================] - 0s 170ms/step\n",
      "0\n",
      "1/1 [==============================] - 0s 172ms/step\n",
      "0\n",
      "1/1 [==============================] - 0s 173ms/step\n",
      "0\n",
      "1/1 [==============================] - 0s 167ms/step\n",
      "0\n",
      "1/1 [==============================] - 0s 177ms/step\n",
      "0\n",
      "1/1 [==============================] - 0s 169ms/step\n",
      "0\n",
      "1/1 [==============================] - 0s 172ms/step\n",
      "0\n",
      "1/1 [==============================] - 0s 168ms/step\n",
      "1\n",
      "1/1 [==============================] - 0s 168ms/step\n",
      "1\n",
      "1/1 [==============================] - 0s 167ms/step\n",
      "1\n",
      "1/1 [==============================] - 0s 174ms/step\n",
      "1\n",
      "1/1 [==============================] - 0s 172ms/step\n",
      "1\n",
      "1/1 [==============================] - 0s 168ms/step\n",
      "1\n",
      "1/1 [==============================] - 0s 185ms/step\n",
      "1\n",
      "1/1 [==============================] - 0s 173ms/step\n",
      "1\n",
      "1/1 [==============================] - 0s 173ms/step\n",
      "1\n",
      "1/1 [==============================] - 0s 182ms/step\n",
      "1\n",
      "1/1 [==============================] - 0s 186ms/step\n",
      "1\n",
      "1/1 [==============================] - 0s 165ms/step\n",
      "1\n",
      "1/1 [==============================] - 0s 167ms/step\n",
      "1\n",
      "1/1 [==============================] - 0s 172ms/step\n",
      "1\n",
      "1/1 [==============================] - 0s 178ms/step\n",
      "1\n",
      "1/1 [==============================] - 0s 176ms/step\n",
      "1\n",
      "1/1 [==============================] - 0s 171ms/step\n",
      "1\n",
      "1/1 [==============================] - 0s 172ms/step\n",
      "1\n",
      "1/1 [==============================] - 0s 178ms/step\n",
      "1\n"
     ]
    }
   ],
   "source": [
    "while True:\n",
    "    ret , pic = cap.read()\n",
    "    \n",
    "    \n",
    "\n",
    "    if ret:\n",
    "        frame = cv2.resize(pic,(500,500))\n",
    "        img = cv2.resize(pic,(224,224))\n",
    "\n",
    "        coods = detectface(cv2.cvtColor(frame,cv2.COLOR_BGR2GRAY))\n",
    "\n",
    "        if coods is not None:\n",
    "            for x,y,w,h in coods:\n",
    "                frame = cv2.rectangle(frame,(x,y),(x+w,y+h),(255,0,0),3)\n",
    "                \n",
    "\n",
    "        \n",
    "\n",
    "        y_pred = detect_face_mask(img)\n",
    "\n",
    "        if y_pred == 0:\n",
    "            draw_label(frame,'Mask',(30,30),(0,255,0))\n",
    "        else:\n",
    "            draw_label(frame,'No Mask',(30,30),(0,0,255))\n",
    "        \n",
    "\n",
    "        print(y_pred)\n",
    "        cv2.imshow('window',frame)\n",
    "    \n",
    "        if cv2.waitKey(1) & 0xFF == ord('x'):\n",
    "            break\n",
    "cv2.destroyAllWindows()"
   ]
  },
  {
   "cell_type": "code",
   "execution_count": 82,
   "metadata": {},
   "outputs": [],
   "source": [
    "def detect_face_mask(img):\n",
    "    y_pred = model.predict(img.reshape(1,224,224,3))\n",
    "    if y_pred[0][0]>=0.5:\n",
    "        return 1\n",
    "    else:\n",
    "        return 0\n"
   ]
  },
  {
   "cell_type": "code",
   "execution_count": 83,
   "metadata": {},
   "outputs": [
    {
     "name": "stdout",
     "output_type": "stream",
     "text": [
      "1/1 [==============================] - 0s 236ms/step\n",
      "1\n"
     ]
    }
   ],
   "source": [
    "sample = cv2.imread('C:/Users/parit/OneDrive/Desktop/Test for Open CV/train/without_mask/2_jpg.rf.cbfdba59342c3a032196a5211c1e663d.jpg')\n",
    "sample = cv2.resize(sample,(224,224))\n",
    "print(detect_face_mask(sample))\n",
    "\n",
    "\n"
   ]
  },
  {
   "cell_type": "code",
   "execution_count": 84,
   "metadata": {},
   "outputs": [
    {
     "name": "stdout",
     "output_type": "stream",
     "text": [
      "1/1 [==============================] - 0s 275ms/step\n",
      "0\n"
     ]
    }
   ],
   "source": [
    "sample = cv2.imread('C:/Users/parit/OneDrive/Desktop/Test for Open CV/train/with_mask/13-with-mask_jpg.rf.3f70707aaf596885be28d4a087396a2f.jpg')\n",
    "sample = cv2.resize(sample,(224,224))\n",
    "print(detect_face_mask(sample))\n",
    "\n"
   ]
  },
  {
   "cell_type": "code",
   "execution_count": 20,
   "metadata": {},
   "outputs": [],
   "source": [
    "def draw_label(img,text,pos,bg_color):\n",
    "    text_size = cv2.getTextSize(text,cv2.FONT_HERSHEY_SIMPLEX,1,cv2.FILLED)\n",
    "\n",
    "    end_x = pos[0] + text_size[0][0] + 2\n",
    "    end_y = pos[1] + text_size[0][1] - 2\n",
    "\n",
    "    cv2.rectangle(img,(0,0),(end_x,end_y),bg_color,cv2.FILLED)\n",
    "    cv2.putText(img,text,pos,cv2.FONT_HERSHEY_SIMPLEX,1,(0,0,0),1,cv2.LINE_AA)"
   ]
  },
  {
   "cell_type": "code",
   "execution_count": 70,
   "metadata": {},
   "outputs": [],
   "source": [
    "haar = cv2.CascadeClassifier('haarcascade_frontalface_default.xml')"
   ]
  },
  {
   "cell_type": "code",
   "execution_count": 71,
   "metadata": {},
   "outputs": [],
   "source": [
    "def detectface(img):\n",
    "    coods = haar.detectMultiScale(img)\n",
    "    return coods"
   ]
  },
  {
   "cell_type": "code",
   "execution_count": 72,
   "metadata": {},
   "outputs": [],
   "source": [
    "cap = cv2.VideoCapture(0)"
   ]
  },
  {
   "cell_type": "code",
   "execution_count": 73,
   "metadata": {},
   "outputs": [],
   "source": [
    "while True:\n",
    "    ret, frame = cap.read()\n",
    "\n",
    "    gray_frame = cv2.cvtColor(frame, cv2.COLOR_BGR2GRAY)\n",
    "    \n",
    "    faces_coordinates = detectface(gray_frame)\n",
    "\n",
    "    if faces_coordinates is not None:\n",
    "        for x, y, w, h in faces_coordinates:\n",
    "            frame = cv2.rectangle(frame, (x, y), (x+w, y+h), (255, 0, 0), 2)\n",
    "\n",
    "    \n",
    "    cv2.imshow('window', frame)\n",
    "\n",
    "    if cv2.waitKey(1) & 0xFF == ord('x'):\n",
    "        break\n",
    "\n",
    "cv2.destroyAllWindows()\n"
   ]
  },
  {
   "cell_type": "code",
   "execution_count": null,
   "metadata": {},
   "outputs": [],
   "source": []
  }
 ],
 "metadata": {
  "kernelspec": {
   "display_name": "venv",
   "language": "python",
   "name": "python3"
  },
  "language_info": {
   "codemirror_mode": {
    "name": "ipython",
    "version": 3
   },
   "file_extension": ".py",
   "mimetype": "text/x-python",
   "name": "python",
   "nbconvert_exporter": "python",
   "pygments_lexer": "ipython3",
   "version": "3.11.4"
  }
 },
 "nbformat": 4,
 "nbformat_minor": 2
}
